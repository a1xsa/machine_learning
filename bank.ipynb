{
  "nbformat": 4,
  "nbformat_minor": 0,
  "metadata": {
    "colab": {
      "provenance": [],
      "authorship_tag": "ABX9TyOLMLi3WoBUzj5pIS68VezC",
      "include_colab_link": true
    },
    "kernelspec": {
      "name": "python3",
      "display_name": "Python 3"
    },
    "language_info": {
      "name": "python"
    }
  },
  "cells": [
    {
      "cell_type": "markdown",
      "metadata": {
        "id": "view-in-github",
        "colab_type": "text"
      },
      "source": [
        "<a href=\"https://colab.research.google.com/github/a1xsa/machine_learning/blob/main/bank.ipynb\" target=\"_parent\"><img src=\"https://colab.research.google.com/assets/colab-badge.svg\" alt=\"Open In Colab\"/></a>"
      ]
    },
    {
      "cell_type": "code",
      "execution_count": null,
      "metadata": {
        "id": "RO2g6HbsieWL"
      },
      "outputs": [],
      "source": [
        "import numpy as np              # Одномерные и многомерные массивы (array)\n",
        "import pandas as pd             # Таблицы и временные ряды (dataframe, series)\n",
        "import matplotlib.pyplot as plt # Научная графика\n",
        "import seaborn as sns           # Еще больше красивой графики для визуализации данных\n",
        "import sklearn                  # Алгоритмы машинного обучения\n",
        "import os\n",
        "from sklearn.metrics import accuracy_score\n",
        "%matplotlib inline"
      ]
    },
    {
      "cell_type": "markdown",
      "source": [
        "# **Анализ датасета**"
      ],
      "metadata": {
        "id": "DprTelgHi4Vy"
      }
    },
    {
      "cell_type": "markdown",
      "source": [
        "# 1. Загружаем данные\n"
      ],
      "metadata": {
        "id": "h96a5Hvei4_u"
      }
    },
    {
      "cell_type": "markdown",
      "source": [
        "Загружаем файл из репозитория Git, изначально данные разделены на тестовую и обучающую выборку, для первоначального анализа и подготовки данных совместим их в одно целое."
      ],
      "metadata": {
        "id": "TADPahyIjBUm"
      }
    },
    {
      "cell_type": "code",
      "source": [
        "url_train = \"https://raw.githubusercontent.com/a1xsa/machine_learning/refs/heads/main/Train.csv\"\n",
        "data_raw_train = pd.read_csv(url_train)\n",
        "url_test=\"https://raw.githubusercontent.com/a1xsa/machine_learning/refs/heads/main/Test.csv\"\n",
        "data_raw_test=pd.read_csv(url_test)\n"
      ],
      "metadata": {
        "id": "x7308On8ipgb"
      },
      "execution_count": null,
      "outputs": []
    },
    {
      "cell_type": "code",
      "source": [
        "data_raw_train.shape"
      ],
      "metadata": {
        "id": "ghb7-PFLkFwQ"
      },
      "execution_count": null,
      "outputs": []
    },
    {
      "cell_type": "code",
      "source": [
        "data_raw_test.shape"
      ],
      "metadata": {
        "id": "FRdEg3E9kJ7v"
      },
      "execution_count": null,
      "outputs": []
    },
    {
      "cell_type": "code",
      "source": [
        "data_raw_test.head()"
      ],
      "metadata": {
        "id": "NH0nnFQ7kMQH"
      },
      "execution_count": null,
      "outputs": []
    },
    {
      "cell_type": "code",
      "source": [
        "data_all = pd.concat([data_raw_train, data_raw_test], ignore_index=True)\n",
        "data_all.shape"
      ],
      "metadata": {
        "id": "Bglkpdjlktwo"
      },
      "execution_count": null,
      "outputs": []
    },
    {
      "cell_type": "code",
      "source": [
        "data_all.info()"
      ],
      "metadata": {
        "id": "wgm82ZKKk42n"
      },
      "execution_count": null,
      "outputs": []
    },
    {
      "cell_type": "markdown",
      "source": [
        "Мы видим что столбцы(признаки) имеют следующие имена:\n",
        "- `age` - возраст(числовой)\n",
        "- `job` - работа, категориальный признак (\"admin\", \"unknown\",\"unemployed\" \"management\", \"housemaid\", \"entrepreneur\", \"student\", \"blue-collar\" \"self-employed\",\"retired\",\"technician\",\"services\")\n",
        "- `marital` - семейное положение (\"married\",\"divorced\",\"single\")\n",
        "- `education` - образование (\"unknown\",\"secondary\",\"primary\",\"tertiary\")\n",
        "- `default` - наличие кредита (бинарный \"yes\",\"no\")\n",
        "- `balance` - среднегодовой баланс в евро (числовой)\n",
        "- `housing` - наличие ипотеки (бинарный \"yes\",\"no\")\n",
        "- `loan` - личный кредит (бинарный \"yes\",\"no\")\n",
        "- `contact` - тип связи с клиентом (\"unknown\",\"telephone\",\"cellular\")\n",
        "- `day` - число последнего контакта с клиентом (числовой)\n",
        "- `month` - меся последнего контакта с клиентом (\"jan\", \"feb\", \"mar\", …, \"nov\", \"dec\")\n",
        "- `duration` - продолжительность последнего контакта в секундах(числовое)\n",
        "- `campaign` - количество контактов, выполненных в ходе этой кампании (числовое)\n",
        "- `pdays` - количество дней, прошедших с момента последнего контакта с клиентом из предыдущей кампании (числовое, -1 - с клианетом ранее не связывались)\n",
        "- `previous` - количество контактов выполненных до этой кампании\n",
        "- `poutcome` - результат предыдущей маркетинговой компании (\"unknown\",\"other\",\"failure\",\"success\")\n",
        "- `y` - целевой признак, согласие на депозит (\"yes\", \"no\")\n",
        "\n",
        "Требуется предсказать категориальный признак `y` по остальным признакам. Это задача классификации."
      ],
      "metadata": {
        "id": "dM-k0xV2tLuv"
      }
    },
    {
      "cell_type": "code",
      "source": [
        "data_all.describe()"
      ],
      "metadata": {
        "id": "A1ptNiwGse1_"
      },
      "execution_count": null,
      "outputs": []
    },
    {
      "cell_type": "markdown",
      "source": [
        "Приведем все бинарные и категориальные признаки к типу category."
      ],
      "metadata": {
        "id": "LQ-dXPAxy6j6"
      }
    },
    {
      "cell_type": "code",
      "source": [
        "data_all['job'].dtype"
      ],
      "metadata": {
        "id": "vBEUCoIysqU2"
      },
      "execution_count": null,
      "outputs": []
    },
    {
      "cell_type": "code",
      "source": [
        "data_all['job'] = data_all['job'].astype('category')\n",
        "data_all['marital'] = data_all['marital'].astype('category')\n",
        "data_all['education'] = data_all['education'].astype('category')\n",
        "data_all['default'] = data_all['default'].astype('category')\n",
        "data_all['housing'] = data_all['housing'].astype('category')\n",
        "data_all['loan'] = data_all['loan'].astype('category')\n",
        "data_all['contact'] = data_all['contact'].astype('category')\n",
        "data_all['month'] = data_all['month'].astype('category')\n",
        "data_all['poutcome'] = data_all['poutcome'].astype('category')\n",
        "data_all['y'] = data_all['y'].astype('category')"
      ],
      "metadata": {
        "id": "7bIFfiyszjmn"
      },
      "execution_count": null,
      "outputs": []
    },
    {
      "cell_type": "code",
      "source": [
        "data_all['job'].dtype"
      ],
      "metadata": {
        "id": "-y518233Fj4f"
      },
      "execution_count": null,
      "outputs": []
    },
    {
      "cell_type": "markdown",
      "source": [
        "Выведем информацию о числовых и категориальных признаках."
      ],
      "metadata": {
        "id": "6rim-8DbF57n"
      }
    },
    {
      "cell_type": "code",
      "source": [
        "data_all.describe()"
      ],
      "metadata": {
        "id": "cpCQSbRrF-uo"
      },
      "execution_count": null,
      "outputs": []
    },
    {
      "cell_type": "code",
      "source": [
        "data_all.describe(include=['category'])"
      ],
      "metadata": {
        "id": "e3UXcxafGB0X"
      },
      "execution_count": null,
      "outputs": []
    },
    {
      "cell_type": "markdown",
      "source": [
        "# 2. Пропущенные значения:"
      ],
      "metadata": {
        "id": "1DLbSYtGHscW"
      }
    },
    {
      "cell_type": "markdown",
      "source": [
        "В качестве пропущенных значений будем также принимать поля \"unknown\"."
      ],
      "metadata": {
        "id": "iALS5PWVHuUZ"
      }
    },
    {
      "cell_type": "code",
      "source": [
        "data_all.isna().sum()"
      ],
      "metadata": {
        "id": "hFSQ06MHICb7"
      },
      "execution_count": null,
      "outputs": []
    },
    {
      "cell_type": "code",
      "source": [
        "value_counts = data_all.apply(lambda col: col.eq(\"unknown\").sum())\n",
        "print(value_counts)"
      ],
      "metadata": {
        "id": "xkZjQXheP6Fo"
      },
      "execution_count": null,
      "outputs": []
    },
    {
      "cell_type": "markdown",
      "source": [
        "С пропущенными значениями надо что-то сделать. В качестве обработки неизвестных значений в столбце `poutcome` можно удалить его из рассмотрения в целом. Так же предлагается сделать и со столбцом `contact`. Для признаков `job` и `education` заполним пропущенные значения модой."
      ],
      "metadata": {
        "id": "PybfQ20MQMhO"
      }
    },
    {
      "cell_type": "code",
      "source": [
        "data_all['job'].value_counts()"
      ],
      "metadata": {
        "id": "cCEJYN1URyXP"
      },
      "execution_count": null,
      "outputs": []
    },
    {
      "cell_type": "code",
      "source": [
        "data_all['job'] = data_all['job'].replace(\"unknown\", data_all['job'].mode().iloc[0])\n",
        "\n"
      ],
      "metadata": {
        "id": "1zAchrc9MchX"
      },
      "execution_count": null,
      "outputs": []
    },
    {
      "cell_type": "code",
      "source": [
        "data_all['job'].value_counts()"
      ],
      "metadata": {
        "id": "b-Pl2YEsSBRe"
      },
      "execution_count": null,
      "outputs": []
    },
    {
      "cell_type": "code",
      "source": [
        "data_all['education'].value_counts()"
      ],
      "metadata": {
        "id": "M-fasa6dTUC3"
      },
      "execution_count": null,
      "outputs": []
    },
    {
      "cell_type": "code",
      "source": [
        "data_all['education'] = data_all['education'].replace(\"unknown\", data_all['education'].mode().iloc[0])"
      ],
      "metadata": {
        "id": "CiZiMO_uTUK_"
      },
      "execution_count": null,
      "outputs": []
    },
    {
      "cell_type": "code",
      "source": [
        "data_all['education'].value_counts()"
      ],
      "metadata": {
        "id": "Hy0whzHVTUU-"
      },
      "execution_count": null,
      "outputs": []
    },
    {
      "cell_type": "markdown",
      "source": [
        "Признаки `contact` и `poutcome` содержат много пропущенных значений, удалим эти столбцы из рассмотрения."
      ],
      "metadata": {
        "id": "E7LotQGlTxje"
      }
    },
    {
      "cell_type": "code",
      "source": [
        "data_all=data_all.drop(columns=['contact','poutcome'])\n",
        "value_counts = data_all.apply(lambda col: col.eq(\"unknown\").sum())\n",
        "print(value_counts)"
      ],
      "metadata": {
        "id": "882A2PQxTwqL"
      },
      "execution_count": null,
      "outputs": []
    },
    {
      "cell_type": "code",
      "source": [
        "\n",
        "data_all.describe(include=['category'])"
      ],
      "metadata": {
        "id": "UQKq2MDdUYwN"
      },
      "execution_count": null,
      "outputs": []
    },
    {
      "cell_type": "markdown",
      "source": [],
      "metadata": {
        "id": "AP-u-rl6saXG"
      }
    },
    {
      "cell_type": "code",
      "source": [
        "data_all.head()"
      ],
      "metadata": {
        "id": "kVyrgv_ZZcEf"
      },
      "execution_count": null,
      "outputs": []
    },
    {
      "cell_type": "markdown",
      "source": [
        "# 3. Работа с выбросами."
      ],
      "metadata": {
        "id": "7AY4KTRUaYbn"
      }
    },
    {
      "cell_type": "code",
      "source": [
        "data_all.describe()"
      ],
      "metadata": {
        "id": "FD5pOGXpb7VH"
      },
      "execution_count": null,
      "outputs": []
    },
    {
      "cell_type": "code",
      "source": [
        "pd.plotting.scatter_matrix(data_all, figsize = (10, 8),alpha=.01)\n",
        "pass"
      ],
      "metadata": {
        "id": "DgDv0BrHbPkf"
      },
      "execution_count": null,
      "outputs": []
    },
    {
      "cell_type": "markdown",
      "source": [
        "Выявить выбросы на общей диаграмме затруднительно, используем квантили для решения этой проблемы. Удаляем строки не попавшие в  $99\\%$ всех значений."
      ],
      "metadata": {
        "id": "xSgSspCJcmwm"
      }
    },
    {
      "cell_type": "code",
      "source": [
        "data_all['age'].plot(kind='box')\n",
        "pass"
      ],
      "metadata": {
        "id": "JeoPLB5nc1VI"
      },
      "execution_count": null,
      "outputs": []
    },
    {
      "cell_type": "code",
      "source": [
        "data_all['balance'].plot(kind='box')\n",
        "pass"
      ],
      "metadata": {
        "id": "R9DGnCX4dIXH"
      },
      "execution_count": null,
      "outputs": []
    },
    {
      "cell_type": "code",
      "source": [
        "data_all['balance'].quantile([0.005,.01,.05,.1,.5,.9,.95,.985,.99,.995,.999])"
      ],
      "metadata": {
        "id": "ifvEGgm2dMxf"
      },
      "execution_count": null,
      "outputs": []
    },
    {
      "cell_type": "markdown",
      "source": [
        "Мы видим что  99%  всех значений признака 'balance' находятся в диапазоне от -800.0 до 32028.0. Удаляем все строки которые находятся за пределами квантилей."
      ],
      "metadata": {
        "id": "7PQ-5eV9dTBX"
      }
    },
    {
      "cell_type": "code",
      "source": [
        "\n",
        "rows_to_drop = data_all[\n",
        "    (data_all['balance'] < data_all['balance'].quantile(0.01)) | (data_all['balance'] > data_all['balance'].quantile(0.999))].index\n",
        "data_all = data_all.drop(rows_to_drop)\n"
      ],
      "metadata": {
        "id": "iiD43DZddfPH"
      },
      "execution_count": null,
      "outputs": []
    },
    {
      "cell_type": "code",
      "source": [
        "data_all['duration'].plot(kind='box')\n",
        "pass"
      ],
      "metadata": {
        "id": "xtFT1e6peKZ_"
      },
      "execution_count": null,
      "outputs": []
    },
    {
      "cell_type": "code",
      "source": [
        "rows_to_drop = data_all[\n",
        "    (data_all['duration'] < data_all['duration'].quantile(0.01)) | (data_all['duration'] > data_all['duration'].quantile(0.99))].index\n",
        "data_all = data_all.drop(rows_to_drop)"
      ],
      "metadata": {
        "id": "PGN6yuIRebUP"
      },
      "execution_count": null,
      "outputs": []
    },
    {
      "cell_type": "code",
      "source": [
        "data_all['campaign'].plot(kind='box')\n",
        "pass"
      ],
      "metadata": {
        "id": "t7qD05x5e9zJ"
      },
      "execution_count": null,
      "outputs": []
    },
    {
      "cell_type": "code",
      "source": [
        "rows_to_drop = data_all[\n",
        "    (data_all['campaign'] < data_all['campaign'].quantile(0.01)) | (data_all['campaign'] > data_all['campaign'].quantile(0.99))].index\n",
        "data_all = data_all.drop(rows_to_drop)"
      ],
      "metadata": {
        "id": "2mXwEeZ5fJav"
      },
      "execution_count": null,
      "outputs": []
    },
    {
      "cell_type": "code",
      "source": [
        "data_all['pdays'].plot(kind='box')\n",
        "pass"
      ],
      "metadata": {
        "id": "2yn7QELUfMno"
      },
      "execution_count": null,
      "outputs": []
    },
    {
      "cell_type": "code",
      "source": [
        "rows_to_drop = data_all[\n",
        "    (data_all['pdays'] < data_all['pdays'].quantile(0.01)) | (data_all['pdays'] > data_all['pdays'].quantile(0.99))].index\n",
        "data_all = data_all.drop(rows_to_drop)"
      ],
      "metadata": {
        "id": "CLHZsfJqfXZA"
      },
      "execution_count": null,
      "outputs": []
    },
    {
      "cell_type": "code",
      "source": [
        "data_all['previous'].plot(kind='box')\n",
        "pass"
      ],
      "metadata": {
        "id": "jksmcvQyfcp4"
      },
      "execution_count": null,
      "outputs": []
    },
    {
      "cell_type": "code",
      "source": [
        "rows_to_drop = data_all[\n",
        "    (data_all['previous'] < data_all['previous'].quantile(0.01)) | (data_all['previous'] > data_all['previous'].quantile(0.99))].index\n",
        "data_all = data_all.drop(rows_to_drop)"
      ],
      "metadata": {
        "id": "IOBIquQbfo1Y"
      },
      "execution_count": null,
      "outputs": []
    },
    {
      "cell_type": "code",
      "source": [
        "data_all.describe()"
      ],
      "metadata": {
        "id": "tyQDhdgSq9J9"
      },
      "execution_count": null,
      "outputs": []
    },
    {
      "cell_type": "code",
      "source": [
        "pd.plotting.scatter_matrix(data_all, figsize = (10, 8),alpha=.01)\n",
        "pass"
      ],
      "metadata": {
        "id": "Bx9Z8FNOgFlt"
      },
      "execution_count": null,
      "outputs": []
    },
    {
      "cell_type": "markdown",
      "source": [
        "Теперь диаграмы рассеивания выглядят более \"презентабельно\". Уже можно рассмотреть некоторые зависимости, к примеру, зависимость возраста от баланса клмента."
      ],
      "metadata": {
        "id": "2eSj9TyUgRQ2"
      }
    },
    {
      "cell_type": "markdown",
      "source": [
        "# 4. Работа с категориальными признаками:"
      ],
      "metadata": {
        "id": "FX6NET5o8fuW"
      }
    },
    {
      "cell_type": "code",
      "source": [
        "data_all.describe(include=['category'])"
      ],
      "metadata": {
        "id": "JQWci8kN5aTO"
      },
      "execution_count": null,
      "outputs": []
    },
    {
      "cell_type": "markdown",
      "source": [
        "К категориальным признакам применим метод бинаризации."
      ],
      "metadata": {
        "id": "soL5TDwn5V5x"
      }
    },
    {
      "cell_type": "code",
      "source": [
        "numerical_columns=  [c for c in data_all.columns if data_all[c].dtype.name != 'category']\n",
        "categorical_columns = [c for c in data_all.columns if data_all[c].dtype.name == 'category']\n",
        "print(categorical_columns)"
      ],
      "metadata": {
        "id": "gPj3iWfQzqLu"
      },
      "execution_count": null,
      "outputs": []
    },
    {
      "cell_type": "code",
      "source": [
        "data_describe = data_all.describe(include = ['category'])\n",
        "binary_columns    = [c for c in categorical_columns if data_describe[c]['unique'] == 2]\n",
        "nonbinary_columns = [c for c in categorical_columns if data_describe[c]['unique'] > 2]\n",
        "print(binary_columns, nonbinary_columns)\n"
      ],
      "metadata": {
        "id": "1ZDz7cm30CFm"
      },
      "execution_count": null,
      "outputs": []
    },
    {
      "cell_type": "code",
      "source": [
        "data_all['y'].value_counts()"
      ],
      "metadata": {
        "id": "XsLGQtHo1mOe"
      },
      "execution_count": null,
      "outputs": []
    },
    {
      "cell_type": "code",
      "source": [
        "data_all['housing'].value_counts()"
      ],
      "metadata": {
        "id": "ZPhChSXg_Sye"
      },
      "execution_count": null,
      "outputs": []
    },
    {
      "cell_type": "markdown",
      "source": [
        "Для всех бинарных признаков выше просто заменим значения `yes` и `no` на 1 и 0."
      ],
      "metadata": {
        "id": "8eoPOrRR8KtX"
      }
    },
    {
      "cell_type": "code",
      "source": [
        "for column in binary_columns:\n",
        "  data_all[column] = data_all[column].cat.codes"
      ],
      "metadata": {
        "id": "nxlYS4xty0o-"
      },
      "execution_count": null,
      "outputs": []
    },
    {
      "cell_type": "code",
      "source": [
        "data_all.info()"
      ],
      "metadata": {
        "id": "J9qZz9anDW40"
      },
      "execution_count": null,
      "outputs": []
    },
    {
      "cell_type": "markdown",
      "source": [
        "К категориальным небинарным признакам применим векторизацию с помощью `get_dummies`."
      ],
      "metadata": {
        "id": "QQfX9qDrGBtO"
      }
    },
    {
      "cell_type": "code",
      "source": [
        "nonbinary_columns"
      ],
      "metadata": {
        "id": "WepYuvGUF_tr"
      },
      "execution_count": null,
      "outputs": []
    },
    {
      "cell_type": "code",
      "source": [
        "data_all['job'].unique()"
      ],
      "metadata": {
        "id": "gk3G5SZXGxsu"
      },
      "execution_count": null,
      "outputs": []
    },
    {
      "cell_type": "code",
      "source": [
        "job_dummies=pd.get_dummies(data_all['job'], dtype=int)"
      ],
      "metadata": {
        "id": "t9_HnIs4Gv0E"
      },
      "execution_count": null,
      "outputs": []
    },
    {
      "cell_type": "code",
      "source": [
        "job_dummies.head(5)"
      ],
      "metadata": {
        "id": "narVY1BrHVOk"
      },
      "execution_count": null,
      "outputs": []
    },
    {
      "cell_type": "code",
      "source": [
        "marital_dummies=pd.get_dummies(data_all['marital'], dtype=int)\n",
        "marital_dummies.head(5)"
      ],
      "metadata": {
        "id": "df8gzQHbLH1V"
      },
      "execution_count": null,
      "outputs": []
    },
    {
      "cell_type": "code",
      "source": [
        "education_dummies=pd.get_dummies(data_all['education'], dtype=int)\n",
        "education_dummies.head(5)"
      ],
      "metadata": {
        "id": "QelRIVmqL6IL"
      },
      "execution_count": null,
      "outputs": []
    },
    {
      "cell_type": "code",
      "source": [
        "month_dummies=pd.get_dummies(data_all['month'], dtype=int)\n",
        "month_dummies.head(5)"
      ],
      "metadata": {
        "id": "zeZOUuHmM0f8"
      },
      "execution_count": null,
      "outputs": []
    },
    {
      "cell_type": "markdown",
      "source": [
        "Добавим dummy столбцы к таблице и удалем исходные:"
      ],
      "metadata": {
        "id": "XHll6CfZk5xi"
      }
    },
    {
      "cell_type": "code",
      "source": [
        "data_all=pd.concat((data_all,job_dummies),axis=1)\n",
        "data_all=data_all.drop(['job'], axis=1)"
      ],
      "metadata": {
        "id": "RGcd3Cq2lBW2"
      },
      "execution_count": null,
      "outputs": []
    },
    {
      "cell_type": "code",
      "source": [
        "data_all=pd.concat((data_all,marital_dummies),axis=1)\n",
        "data_all=data_all.drop(['marital'], axis=1)"
      ],
      "metadata": {
        "id": "XSFVSq_Nm5st"
      },
      "execution_count": null,
      "outputs": []
    },
    {
      "cell_type": "code",
      "source": [
        "data_all=pd.concat((data_all,education_dummies),axis=1)\n",
        "data_all=data_all.drop(['education'], axis=1)"
      ],
      "metadata": {
        "id": "eFU1Rjt3nAAN"
      },
      "execution_count": null,
      "outputs": []
    },
    {
      "cell_type": "code",
      "source": [
        "data_all=pd.concat((data_all,month_dummies),axis=1)\n",
        "data_all=data_all.drop(['month'], axis=1)"
      ],
      "metadata": {
        "id": "ITTDVWGAnE4u"
      },
      "execution_count": null,
      "outputs": []
    },
    {
      "cell_type": "code",
      "source": [
        "data_all.info()"
      ],
      "metadata": {
        "id": "6sFuBTKynMLU"
      },
      "execution_count": null,
      "outputs": []
    },
    {
      "cell_type": "markdown",
      "source": [
        "# 5. Нормализация:"
      ],
      "metadata": {
        "id": "Ioz869_1L0lP"
      }
    },
    {
      "cell_type": "markdown",
      "source": [
        "Проведем стандартизацию признаков, чтобы в дальнейшем воспользоваться методом k-ближайших соседей. Стандартизация - линейное преобразование, приводящее все значнеия к нулевому среднему и единичному стандартному отклонению."
      ],
      "metadata": {
        "id": "bJ95Q9YXpnSH"
      }
    },
    {
      "cell_type": "code",
      "source": [
        "numerical_columns"
      ],
      "metadata": {
        "id": "1yA_UHiRGL_j"
      },
      "execution_count": null,
      "outputs": []
    },
    {
      "cell_type": "code",
      "source": [
        "data_numerical=data_all[numerical_columns]"
      ],
      "metadata": {
        "id": "vZzfNU2yG9iJ"
      },
      "execution_count": null,
      "outputs": []
    },
    {
      "cell_type": "code",
      "source": [
        "data_numerical=(data_numerical-data_numerical.mean(axis=0))/data_numerical.std(axis=0)"
      ],
      "metadata": {
        "id": "gNfk1yiypmhd"
      },
      "execution_count": null,
      "outputs": []
    },
    {
      "cell_type": "code",
      "source": [
        "data_numerical.describe()\n"
      ],
      "metadata": {
        "id": "2ukvEWwCgx8X"
      },
      "execution_count": null,
      "outputs": []
    },
    {
      "cell_type": "markdown",
      "source": [
        "# 6. Отбор признаков и разбиение данных:\n",
        "\n",
        "\n"
      ],
      "metadata": {
        "id": "Gl2r94j7qOqt"
      }
    },
    {
      "cell_type": "code",
      "source": [
        "data_all=data_all.drop(numerical_columns,axis=1)"
      ],
      "metadata": {
        "id": "DV2fXmj9JAad"
      },
      "execution_count": null,
      "outputs": []
    },
    {
      "cell_type": "code",
      "source": [
        "data=pd.concat((data_numerical,data_all),axis=1)"
      ],
      "metadata": {
        "id": "gn1HLXS2HgPK"
      },
      "execution_count": null,
      "outputs": []
    },
    {
      "cell_type": "code",
      "source": [
        "data.info()"
      ],
      "metadata": {
        "id": "frt01fUiqvAd"
      },
      "execution_count": null,
      "outputs": []
    },
    {
      "cell_type": "markdown",
      "source": [
        "Для решения задачи классификации было принято убрать из рассмотрения признаки `day`, `month`, `pdays`."
      ],
      "metadata": {
        "id": "rI70ekCAwXN0"
      }
    },
    {
      "cell_type": "code",
      "source": [
        "data=data.drop(['day','pdays','apr','aug','dec','feb','jan','jul','jun','mar','may','nov','oct','sep'],axis=1)"
      ],
      "metadata": {
        "id": "FoOHARIbAavz"
      },
      "execution_count": null,
      "outputs": []
    },
    {
      "cell_type": "code",
      "source": [
        "data.info()"
      ],
      "metadata": {
        "id": "7KS_vZqIBRda"
      },
      "execution_count": null,
      "outputs": []
    },
    {
      "cell_type": "markdown",
      "source": [
        "Разобьем данные на обучающую и тестовую выборку в пропорции 3:1.(75%- обучающая выборка, 25%- тестовая выборка)."
      ],
      "metadata": {
        "id": "MeR3GLuLBV6h"
      }
    },
    {
      "cell_type": "code",
      "source": [
        "X=data.drop('y',axis=1)\n",
        "y=data['y']\n",
        "from sklearn.model_selection import train_test_split\n",
        "X_train,X_test,y_train,y_test=train_test_split(X,y,test_size=0.25,random_state=42)\n",
        "N_train, _ = X_train.shape\n",
        "N_test, _ = X_test.shape\n",
        "N_train, N_test"
      ],
      "metadata": {
        "id": "28vmvEL7BdNh"
      },
      "execution_count": null,
      "outputs": []
    },
    {
      "cell_type": "code",
      "source": [
        "y_train"
      ],
      "metadata": {
        "id": "veZgkqAaEu5D"
      },
      "execution_count": null,
      "outputs": []
    },
    {
      "cell_type": "markdown",
      "source": [
        "# 7. KNN:"
      ],
      "metadata": {
        "id": "QRPlKJMa6Bux"
      }
    },
    {
      "cell_type": "code",
      "source": [
        "from sklearn.neighbors import KNeighborsClassifier\n",
        "model = KNeighborsClassifier(n_neighbors=7, p=1)\n",
        "model.fit(X_train, y_train)"
      ],
      "metadata": {
        "id": "ZIILXvG96ZIT"
      },
      "execution_count": null,
      "outputs": []
    },
    {
      "cell_type": "markdown",
      "source": [
        "Проверим качество классификатора."
      ],
      "metadata": {
        "id": "rbO9xgKf75lv"
      }
    },
    {
      "cell_type": "code",
      "source": [
        "y_train_pred=model.predict(X_train)\n",
        "y_test_pred=model.predict(X_test)"
      ],
      "metadata": {
        "id": "WV0GnxDv795f"
      },
      "execution_count": null,
      "outputs": []
    },
    {
      "cell_type": "code",
      "source": [
        "y_train!=y_train_pred"
      ],
      "metadata": {
        "id": "N8hMLb8M8WQn"
      },
      "execution_count": null,
      "outputs": []
    },
    {
      "cell_type": "markdown",
      "source": [
        "Ошибки на обучающей и тестовой выборке."
      ],
      "metadata": {
        "id": "NSqm8ZSR8-Ug"
      }
    },
    {
      "cell_type": "code",
      "source": [
        "np.mean(y_train != y_train_pred), np.mean(y_test != y_test_pred)"
      ],
      "metadata": {
        "id": "0C6Yn1KC9FnX"
      },
      "execution_count": null,
      "outputs": []
    },
    {
      "cell_type": "markdown",
      "source": [
        "Построим матрицу рассогласования."
      ],
      "metadata": {
        "id": "U7u-C8x89chu"
      }
    },
    {
      "cell_type": "code",
      "source": [
        "from sklearn.metrics import confusion_matrix\n",
        "cm = confusion_matrix(y_test, y_test_pred)\n",
        "classes=[0,1]"
      ],
      "metadata": {
        "id": "Xi_SqSfe9eef"
      },
      "execution_count": null,
      "outputs": []
    },
    {
      "cell_type": "code",
      "source": [
        "from yellowbrick.classifier import confusion_matrix, class_prediction_error\n",
        "confusion_matrix(model, X_test, y_test, classes=classes)"
      ],
      "metadata": {
        "id": "9hpugCPT-oZn"
      },
      "execution_count": null,
      "outputs": []
    },
    {
      "cell_type": "code",
      "source": [
        "y_test.value_counts()"
      ],
      "metadata": {
        "id": "tDHOm2_xAdWD"
      },
      "execution_count": null,
      "outputs": []
    },
    {
      "cell_type": "code",
      "source": [
        "class_prediction_error(model, X_test, y_test, classes=classes)"
      ],
      "metadata": {
        "id": "Q_DEleWgAN3w"
      },
      "execution_count": null,
      "outputs": []
    },
    {
      "cell_type": "markdown",
      "source": [
        "Процент ошибки не велик, однако предсказания по первому классу показывают плохие результаты."
      ],
      "metadata": {
        "id": "yF7-yaEjBw3Q"
      }
    },
    {
      "cell_type": "code",
      "source": [
        "from sklearn.metrics import classification_report\n",
        "print(classification_report(y_test, y_test_pred))"
      ],
      "metadata": {
        "id": "6g5U0EaaDufP"
      },
      "execution_count": null,
      "outputs": []
    },
    {
      "cell_type": "markdown",
      "source": [
        "Подберем параметры оптимального количества соседей."
      ],
      "metadata": {
        "id": "Z3QT8zfFGjOF"
      }
    },
    {
      "cell_type": "code",
      "source": [
        "# from sklearn.model_selection import GridSearchCV\n",
        "# nnb = [2, 3, 5, 10, 15, 19]\n",
        "# knn = KNeighborsClassifier()\n",
        "# grid = GridSearchCV(knn, param_grid = {'n_neighbors': nnb}, cv=10)\n",
        "# grid.fit(X_train, y_train)\n",
        "\n",
        "# best_cv_err = 1 - grid.best_score_\n",
        "# best_n_neighbors = grid.best_estimator_.n_neighbors\n",
        "# print(best_cv_err, best_n_neighbors)"
      ],
      "metadata": {
        "id": "tm_OxbOaGrq5"
      },
      "execution_count": null,
      "outputs": []
    },
    {
      "cell_type": "code",
      "source": [
        "model_19 = KNeighborsClassifier(n_neighbors=19, p=1)\n",
        "model_19.fit(X_train, y_train)\n",
        "y_test_pred_19=model_19.predict(X_test)"
      ],
      "metadata": {
        "id": "yJG55fOq5xu-"
      },
      "execution_count": null,
      "outputs": []
    },
    {
      "cell_type": "code",
      "source": [
        "confusion_matrix(model_19, X_test, y_test, classes=classes)"
      ],
      "metadata": {
        "id": "p50jtih39Ch1"
      },
      "execution_count": null,
      "outputs": []
    },
    {
      "cell_type": "code",
      "source": [
        "print(classification_report(y_test, y_test_pred_19))"
      ],
      "metadata": {
        "id": "tLf2cdLk9q0Q"
      },
      "execution_count": null,
      "outputs": []
    },
    {
      "cell_type": "code",
      "source": [
        "accuracy_score(y_test, y_test_pred_19)"
      ],
      "metadata": {
        "id": "ThUcHKdGFGHo"
      },
      "execution_count": null,
      "outputs": []
    },
    {
      "cell_type": "markdown",
      "source": [
        "Как можно заметить, процент ошибки стал меньше, однако определение объектов 1-го класса оставляет желать лучшего."
      ],
      "metadata": {
        "id": "HKBnIt3h9hKl"
      }
    },
    {
      "cell_type": "markdown",
      "source": [
        "#8. MLP - Multi Layer Perceptron:"
      ],
      "metadata": {
        "id": "WTdbgs69ALBV"
      }
    },
    {
      "cell_type": "markdown",
      "source": [
        "Создадим модель однослойной нейронной сети."
      ],
      "metadata": {
        "id": "gSWMBsgoBqZ9"
      }
    },
    {
      "cell_type": "code",
      "source": [
        "from sklearn.neural_network import MLPClassifier"
      ],
      "metadata": {
        "id": "Yu503bZIBt_T"
      },
      "execution_count": null,
      "outputs": []
    },
    {
      "cell_type": "code",
      "source": [
        "model = MLPClassifier(hidden_layer_sizes = (30,), random_state = 42)\n",
        "model.fit(X_train, y_train)"
      ],
      "metadata": {
        "id": "fLb-I7EEB2qk"
      },
      "execution_count": null,
      "outputs": []
    },
    {
      "cell_type": "code",
      "source": [
        "y_train_pred = model.predict(X_train)\n",
        "y_test_pred = model.predict(X_test)\n",
        "np.mean(y_train != y_train_pred), np.mean(y_test != y_test_pred)"
      ],
      "metadata": {
        "id": "c0qwdwh9Ew2q"
      },
      "execution_count": null,
      "outputs": []
    },
    {
      "cell_type": "code",
      "source": [
        "model_2 = MLPClassifier(hidden_layer_sizes = (1000, 500), random_state = 42)\n",
        "model_2.fit(X_train, y_train)"
      ],
      "metadata": {
        "id": "_zumTuMWE3XD"
      },
      "execution_count": null,
      "outputs": []
    },
    {
      "cell_type": "code",
      "source": [
        "y_train_pred = model_2.predict(X_train)\n",
        "y_test_pred = model_2.predict(X_test)\n",
        "np.mean(y_train != y_train_pred), np.mean(y_test != y_test_pred)"
      ],
      "metadata": {
        "id": "aVf3NxV3E67J"
      },
      "execution_count": null,
      "outputs": []
    },
    {
      "cell_type": "markdown",
      "source": [
        "Подбор гиперпарамтеров."
      ],
      "metadata": {
        "id": "8XZQbe54JTA0"
      }
    },
    {
      "cell_type": "markdown",
      "source": [
        "Рассмотрим зависимость ошибки от числа нейронов в скрытом слое."
      ],
      "metadata": {
        "id": "c7EJTucwQqFK"
      }
    },
    {
      "cell_type": "code",
      "source": [
        "array_neurons = np.arange(1, 40, 3)\n",
        "test_err = []\n",
        "train_err = []\n",
        "train_acc = []\n",
        "test_acc = []\n",
        "\n",
        "for neurons in array_neurons:\n",
        "    mlp_model = MLPClassifier(hidden_layer_sizes=(neurons), max_iter=1000)\n",
        "    mlp_model.fit(X_train, y_train)\n",
        "\n",
        "    y_train_pred = mlp_model.predict(X_train)\n",
        "    y_test_pred = mlp_model.predict(X_test)\n",
        "\n",
        "    train_err.append(np.mean(y_train != y_train_pred))\n",
        "    test_err.append(np.mean(y_test != y_test_pred))\n",
        "\n",
        "    train_acc.append(accuracy_score(y_train, y_train_pred))\n",
        "    test_acc.append(accuracy_score(y_test, y_test_pred))"
      ],
      "metadata": {
        "id": "zNmmINROQrPZ"
      },
      "execution_count": null,
      "outputs": []
    },
    {
      "cell_type": "code",
      "source": [
        "plt.semilogx(array_neurons, train_err, 'b-o', label = 'train')\n",
        "plt.semilogx(array_neurons, test_err, 'r-o', label = 'test')\n",
        "plt.xlim([np.min(array_neurons), np.max(array_neurons)])\n",
        "plt.title('Dependence Errors', fontsize = 40)\n",
        "plt.xlabel('Neurons', fontsize = 25)\n",
        "plt.ylabel('Error', fontsize = 25)\n",
        "plt.legend(fontsize = 20)"
      ],
      "metadata": {
        "id": "T4kBRS83Rpb7"
      },
      "execution_count": null,
      "outputs": []
    },
    {
      "cell_type": "markdown",
      "source": [
        "Ошибка на тестовых данных уменьшается с ростом количества нейронов."
      ],
      "metadata": {
        "id": "YYZq5AdiSBgh"
      }
    },
    {
      "cell_type": "markdown",
      "source": [
        "Рассмотрим зависимость величины ошибки от параметра `alpha`."
      ],
      "metadata": {
        "id": "wxUg3LJ1SLS5"
      }
    },
    {
      "cell_type": "code",
      "source": [
        "alpha_arr = np.logspace(-4, 5, 10)\n",
        "test_err = []\n",
        "train_err = []\n",
        "for alpha in alpha_arr:\n",
        "    mlp_model = MLPClassifier(hidden_layer_sizes = (30,), random_state = 42, alpha = alpha)\n",
        "    mlp_model.fit(X_train, y_train)\n",
        "\n",
        "    y_train_pred = mlp_model.predict(X_train)\n",
        "    y_test_pred = mlp_model.predict(X_test)\n",
        "    train_err.append(np.mean(y_train != y_train_pred))\n",
        "    test_err.append(np.mean(y_test != y_test_pred))"
      ],
      "metadata": {
        "id": "F9KQuYAbSXBg"
      },
      "execution_count": null,
      "outputs": []
    },
    {
      "cell_type": "code",
      "source": [
        "plt.semilogx(alpha_arr, train_err, 'r-o', label = 'train')\n",
        "plt.semilogx(alpha_arr, test_err, 'b-o', label = 'test')\n",
        "plt.xlim([np.max(alpha_arr), np.min(alpha_arr)])\n",
        "plt.title('Error vs. alpha')\n",
        "plt.xlabel('alpha')\n",
        "plt.ylabel('error')\n",
        "plt.legend()\n",
        "pass"
      ],
      "metadata": {
        "id": "uFwnfaauS9Kz"
      },
      "execution_count": null,
      "outputs": []
    }
  ]
}